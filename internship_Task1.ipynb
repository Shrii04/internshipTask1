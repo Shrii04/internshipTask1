{
  "nbformat": 4,
  "nbformat_minor": 0,
  "metadata": {
    "colab": {
      "provenance": []
    },
    "kernelspec": {
      "name": "python3",
      "display_name": "Python 3"
    },
    "language_info": {
      "name": "python"
    }
  },
  "cells": [
    {
      "cell_type": "code",
      "source": [
        "# Creating a List, Dictionary, and Set"
      ],
      "metadata": {
        "id": "S-ETdGxqcUky"
      },
      "execution_count": null,
      "outputs": []
    },
    {
      "cell_type": "code",
      "source": [
        "#List operations"
      ],
      "metadata": {
        "id": "WLEZP51SjJ18"
      },
      "execution_count": null,
      "outputs": []
    },
    {
      "cell_type": "code",
      "source": [
        "# list is a container which contain multiple value\n",
        " #represented as [ ]\n",
        " # homogenous or heterogenous\n",
        "# list is ordered\n",
        "# list contain duplicate values\n",
        "# mutable datatype... changable"
      ],
      "metadata": {
        "id": "ZVasJ0p8jhlL"
      },
      "execution_count": null,
      "outputs": []
    },
    {
      "cell_type": "code",
      "source": [
        "# Creating a List\n",
        "fruits = [\"apple\", \"banana\", \"cherry\", \"date\"]\n",
        "print(\"Original List:\", fruits)\n"
      ],
      "metadata": {
        "colab": {
          "base_uri": "https://localhost:8080/"
        },
        "id": "2YZRemd2cpSr",
        "outputId": "00d8e8f4-dfa1-4d36-9a36-670d63d0db7f"
      },
      "execution_count": null,
      "outputs": [
        {
          "output_type": "stream",
          "name": "stdout",
          "text": [
            "Original List: ['apple', 'banana', 'cherry', 'date']\n"
          ]
        }
      ]
    },
    {
      "cell_type": "code",
      "source": [
        "# Adding an element to the list\n",
        "fruits.append(\"elderberry\")\n",
        "print(\"List after adding an element:\", fruits)\n"
      ],
      "metadata": {
        "colab": {
          "base_uri": "https://localhost:8080/"
        },
        "id": "qHpXAwuTcsrj",
        "outputId": "a1fbee93-43cc-40e4-e757-b928f25627c3"
      },
      "execution_count": null,
      "outputs": [
        {
          "output_type": "stream",
          "name": "stdout",
          "text": [
            "List after adding an element: ['apple', 'banana', 'cherry', 'date', 'elderberry']\n"
          ]
        }
      ]
    },
    {
      "cell_type": "code",
      "source": [
        "# Removing an element from the list\n",
        "fruits.remove(\"banana\")\n",
        "print(\"List after removing an element:\", fruits)\n"
      ],
      "metadata": {
        "colab": {
          "base_uri": "https://localhost:8080/"
        },
        "id": "GJC0-_JScwVx",
        "outputId": "fc86f1d6-3229-4753-e56d-0c9c594b328d"
      },
      "execution_count": null,
      "outputs": [
        {
          "output_type": "stream",
          "name": "stdout",
          "text": [
            "List after removing an element: ['apple', 'cherry', 'date', 'elderberry']\n"
          ]
        }
      ]
    },
    {
      "cell_type": "code",
      "source": [
        "# Modifying an element in the list\n",
        "fruits[2] = \"dragonfruit\"\n",
        "print(\"List after modifying an element:\", fruits)\n"
      ],
      "metadata": {
        "colab": {
          "base_uri": "https://localhost:8080/"
        },
        "id": "v4TOnXFKczIZ",
        "outputId": "3cd11d92-63b6-4bbf-8c60-167af3282ca0"
      },
      "execution_count": null,
      "outputs": [
        {
          "output_type": "stream",
          "name": "stdout",
          "text": [
            "List after modifying an element: ['apple', 'cherry', 'dragonfruit', 'elderberry']\n"
          ]
        }
      ]
    },
    {
      "cell_type": "code",
      "source": [
        "# Dictionary Operations"
      ],
      "metadata": {
        "id": "eubtuvmFc1Vb"
      },
      "execution_count": null,
      "outputs": []
    },
    {
      "cell_type": "code",
      "source": [
        "# stores information in the form of key value pair\n",
        "# container\n",
        "# ordered\n",
        "# doesnot contain duplicate member\n",
        "# mutable\n",
        "# does not support for indexing... by using key"
      ],
      "metadata": {
        "id": "Z2TQxvfgjfiM"
      },
      "execution_count": null,
      "outputs": []
    },
    {
      "cell_type": "code",
      "source": [
        "# Creating a Dictionary\n",
        "person = {'name': 'Shrikant', 'age': 22, 'city': 'sambhajinagar'}\n",
        "print(\"\\nOriginal Dictionary:\", person)"
      ],
      "metadata": {
        "colab": {
          "base_uri": "https://localhost:8080/"
        },
        "id": "stz3aY0fc4Ir",
        "outputId": "81794484-7bb6-41aa-a86c-715b4376a886"
      },
      "execution_count": null,
      "outputs": [
        {
          "output_type": "stream",
          "name": "stdout",
          "text": [
            "\n",
            "Original Dictionary: {'name': 'Shrikant', 'age': 22, 'city': 'sambhajinagar'}\n"
          ]
        }
      ]
    },
    {
      "cell_type": "code",
      "source": [
        "# Adding a new key-value pair to the dictionary\n",
        "person['email'] = 'shrikantmete1212@gmail.com'\n",
        "print(\"Dictionary after adding a new key-value pair:\", person)\n"
      ],
      "metadata": {
        "colab": {
          "base_uri": "https://localhost:8080/"
        },
        "id": "WvOJaNhWc7XL",
        "outputId": "c3333ee1-4717-419f-9a82-e56582537a49"
      },
      "execution_count": null,
      "outputs": [
        {
          "output_type": "stream",
          "name": "stdout",
          "text": [
            "Dictionary after adding a new key-value pair: {'name': 'Shrikant', 'age': 22, 'city': 'sambhajinagar', 'email': 'shrikantmete1212@gmail.com'}\n"
          ]
        }
      ]
    },
    {
      "cell_type": "code",
      "source": [
        "del person['city']\n",
        "print(\"Dictionary after removing 'city' key:\", person)"
      ],
      "metadata": {
        "colab": {
          "base_uri": "https://localhost:8080/"
        },
        "id": "kZe4EpG3f2nk",
        "outputId": "d5a5c2e7-1196-4f89-d620-f48c7a63b8bf"
      },
      "execution_count": null,
      "outputs": [
        {
          "output_type": "stream",
          "name": "stdout",
          "text": [
            "Dictionary after removing 'city' key: {'name': 'Shrikant', 'age': 22, 'email': 'shrikantmete1212@gmail.com'}\n"
          ]
        }
      ]
    },
    {
      "cell_type": "code",
      "source": [
        "# Modifying a value in the dictionary\n",
        "person['age'] = 23\n",
        "print(\"Dictionary after modifying a value:\", person)\n"
      ],
      "metadata": {
        "colab": {
          "base_uri": "https://localhost:8080/"
        },
        "id": "yZ9TC1GudCpd",
        "outputId": "0519b5ba-b915-4b04-ee38-61329962457e"
      },
      "execution_count": null,
      "outputs": [
        {
          "output_type": "stream",
          "name": "stdout",
          "text": [
            "Dictionary after modifying a value: {'name': 'Shrikant', 'age': 23, 'email': 'shrikant@example.com'}\n"
          ]
        }
      ]
    },
    {
      "cell_type": "code",
      "source": [
        "# set operations"
      ],
      "metadata": {
        "id": "Q3AUpmuGj16u"
      },
      "execution_count": null,
      "outputs": []
    },
    {
      "cell_type": "code",
      "source": [
        "#it doesnt contain duplicate member\n",
        "#values should be unique\n",
        "#does not support for the indexing.... unindexed\n",
        "#set itself is mutable\n",
        "#set items are unchangeble\n"
      ],
      "metadata": {
        "id": "A6IyghEMjtzF"
      },
      "execution_count": null,
      "outputs": []
    },
    {
      "cell_type": "code",
      "source": [
        "# Creating a Set\n",
        "colors = {\"red\", \"green\", \"blue\"}\n",
        "print(\"\\nOriginal Set:\", colors)\n"
      ],
      "metadata": {
        "colab": {
          "base_uri": "https://localhost:8080/"
        },
        "id": "WZNMlCwvdHaP",
        "outputId": "6c8c838d-2659-4fb0-8d28-063407dd64ee"
      },
      "execution_count": null,
      "outputs": [
        {
          "output_type": "stream",
          "name": "stdout",
          "text": [
            "\n",
            "Original Set: {'red', 'green', 'blue'}\n"
          ]
        }
      ]
    },
    {
      "cell_type": "code",
      "source": [
        "# Adding an element to the set\n",
        "colors.add(\"yellow\")\n",
        "print(\"Set after adding an element:\", colors)\n"
      ],
      "metadata": {
        "colab": {
          "base_uri": "https://localhost:8080/"
        },
        "id": "ZQOwajAzdLs3",
        "outputId": "184b135f-7ceb-4290-d3cf-bc07049d74d9"
      },
      "execution_count": null,
      "outputs": [
        {
          "output_type": "stream",
          "name": "stdout",
          "text": [
            "Set after adding an element: {'red', 'yellow', 'green', 'blue'}\n"
          ]
        }
      ]
    },
    {
      "cell_type": "code",
      "source": [
        "# Removing an element from the set\n",
        "colors.remove(\"green\")\n",
        "print(\"Set after removing an element:\", colors)\n"
      ],
      "metadata": {
        "colab": {
          "base_uri": "https://localhost:8080/"
        },
        "id": "GKngsM9ndMdn",
        "outputId": "1d96cc72-c523-4c6b-ec0b-8091d5958090"
      },
      "execution_count": null,
      "outputs": [
        {
          "output_type": "stream",
          "name": "stdout",
          "text": [
            "Set after removing an element: {'red', 'yellow', 'blue'}\n"
          ]
        }
      ]
    },
    {
      "cell_type": "code",
      "source": [
        "# Sets do not support modifying an existing element, but we can add and remove elements\n",
        "# For example, replacing \"blue\" with \"cyan\":"
      ],
      "metadata": {
        "id": "_-pEMF0NdWNX"
      },
      "execution_count": null,
      "outputs": []
    },
    {
      "cell_type": "code",
      "source": [
        "colors.remove(\"blue\")\n",
        "colors.add(\"cyan\")\n",
        "print(\"Set after modifying (replacing 'blue' with 'cyan'):\", colors)\n"
      ],
      "metadata": {
        "colab": {
          "base_uri": "https://localhost:8080/"
        },
        "id": "Rd63ZIo_iEzp",
        "outputId": "71609f5c-afc3-4482-f949-2eb04e81601f"
      },
      "execution_count": null,
      "outputs": [
        {
          "output_type": "stream",
          "name": "stdout",
          "text": [
            "Set after modifying (replacing 'blue' with 'cyan'): {'red', 'yellow', 'cyan'}\n"
          ]
        }
      ]
    }
  ]
}